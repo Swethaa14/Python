{
  "nbformat": 4,
  "nbformat_minor": 0,
  "metadata": {
    "colab": {
      "provenance": [],
      "authorship_tag": "ABX9TyPQbH+ClMDasC34bD+X5ves",
      "include_colab_link": true
    },
    "kernelspec": {
      "name": "python3",
      "display_name": "Python 3"
    },
    "language_info": {
      "name": "python"
    }
  },
  "cells": [
    {
      "cell_type": "markdown",
      "metadata": {
        "id": "view-in-github",
        "colab_type": "text"
      },
      "source": [
        "<a href=\"https://colab.research.google.com/github/Swethaa14/Python/blob/main/Weather_forecasting.ipynb\" target=\"_parent\"><img src=\"https://colab.research.google.com/assets/colab-badge.svg\" alt=\"Open In Colab\"/></a>"
      ]
    },
    {
      "cell_type": "code",
      "execution_count": null,
      "metadata": {
        "id": "7Ibylf9M1537"
      },
      "outputs": [],
      "source": []
    },
    {
      "cell_type": "code",
      "source": [
        "from flask import Flask, request, jsonify\n",
        "import requests\n",
        "\n",
        "app = Flask(_name_)\n",
        "\n",
        "@app.route('/weather', methods=['GET'])\n",
        "def get_weather():\n",
        "    city = request.args.get('city')\n",
        "    api_key = \"14ec2447c33e26c01214b1d24727d36\"\n",
        "    base_url = \"https://api.openweathermap.org/data/3.0/onecall?\"\n",
        "\n",
        "    complete_url = base_url + \"appid=\" + api_key + \"&q=\" + city\n",
        "    response = requests.get(complete_url)\n",
        "    data = response.json()\n",
        "\n",
        "if data[\"cod\"] != \"404\":\n",
        "     y = data[\"main\"]\n",
        "     current_temperature = y[\"temp\"]\n",
        "     current_pressure = y[\"pressure\"]\n",
        "     current_humidity = y[\"humidity\"]\n",
        "     z = data[\"weather\"]\n",
        "     weather_description = z[0][\"description\"]\n",
        "\n",
        "     weather_data = {\n",
        "        \"Temperature (in Kelvin)\": current_temperature,\n",
        "         \"Atmospheric Pressure (in hPa)\": current_pressure,\n",
        "         \"Humidity (in percentage)\": current_humidity,\n",
        "         \"Description\": weather_description\n",
        "                       }\n",
        "     return jsonify(weather_data)\n",
        "else:\n",
        "      return jsonify({\"error\": \"City not found\"}), 404\n",
        "\n",
        "if _name_ == '_main_':\n",
        "    app.run(debug=True)"
      ],
      "metadata": {
        "colab": {
          "base_uri": "https://localhost:8080/",
          "height": 211
        },
        "id": "inUkIf0h2I3L",
        "outputId": "52273695-c208-4466-daa2-4f648f7ecdcd"
      },
      "execution_count": 8,
      "outputs": [
        {
          "output_type": "error",
          "ename": "NameError",
          "evalue": "name '_name_' is not defined",
          "traceback": [
            "\u001b[0;31m---------------------------------------------------------------------------\u001b[0m",
            "\u001b[0;31mNameError\u001b[0m                                 Traceback (most recent call last)",
            "\u001b[0;32m<ipython-input-8-5d4b007761d6>\u001b[0m in \u001b[0;36m<cell line: 4>\u001b[0;34m()\u001b[0m\n\u001b[1;32m      2\u001b[0m \u001b[0;32mimport\u001b[0m \u001b[0mrequests\u001b[0m\u001b[0;34m\u001b[0m\u001b[0;34m\u001b[0m\u001b[0m\n\u001b[1;32m      3\u001b[0m \u001b[0;34m\u001b[0m\u001b[0m\n\u001b[0;32m----> 4\u001b[0;31m \u001b[0mapp\u001b[0m \u001b[0;34m=\u001b[0m \u001b[0mFlask\u001b[0m\u001b[0;34m(\u001b[0m\u001b[0m_name_\u001b[0m\u001b[0;34m)\u001b[0m\u001b[0;34m\u001b[0m\u001b[0;34m\u001b[0m\u001b[0m\n\u001b[0m\u001b[1;32m      5\u001b[0m \u001b[0;34m\u001b[0m\u001b[0m\n\u001b[1;32m      6\u001b[0m \u001b[0;34m@\u001b[0m\u001b[0mapp\u001b[0m\u001b[0;34m.\u001b[0m\u001b[0mroute\u001b[0m\u001b[0;34m(\u001b[0m\u001b[0;34m'/weather'\u001b[0m\u001b[0;34m,\u001b[0m \u001b[0mmethods\u001b[0m\u001b[0;34m=\u001b[0m\u001b[0;34m[\u001b[0m\u001b[0;34m'GET'\u001b[0m\u001b[0;34m]\u001b[0m\u001b[0;34m)\u001b[0m\u001b[0;34m\u001b[0m\u001b[0;34m\u001b[0m\u001b[0m\n",
            "\u001b[0;31mNameError\u001b[0m: name '_name_' is not defined"
          ]
        }
      ]
    }
  ]
}